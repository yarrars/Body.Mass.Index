{
 "cells": [
  {
   "cell_type": "code",
   "execution_count": 5,
   "metadata": {},
   "outputs": [
    {
     "name": "stdout",
     "output_type": "stream",
     "text": [
      "Masukkan Tinggi Badan Anda (cm): 190\n",
      "Masukkan Berat Badan Anda (kg): 90\n",
      "BMI = 24.93074792243767 -> Kelebihan Berat Badan\n"
     ]
    }
   ],
   "source": [
    "tinggicm = float(input(\"Masukkan Tinggi Badan Anda (cm): \"))\n",
    "berat = float(input(\"Masukkan Berat Badan Anda (kg): \"))\n",
    "tinggim = tinggicm * 0.01\n",
    "bmi = berat/(tinggim**2)\n",
    "\n",
    "if bmi < 18.5 :\n",
    "    print(\"BMI =\", bmi, \"Status : Kekurangan Berat Badan\")\n",
    "elif bmi > 18.5 and bmi < 24.9 :\n",
    "    print(\"BMI =\", bmi, \"Status : Berat Badan Ideal\")\n",
    "else:\n",
    "    print(\"BMI =\", bmi, \"Status : Kelebihan Berat Badan\")\n"
   ]
  },
  {
   "cell_type": "code",
   "execution_count": null,
   "metadata": {},
   "outputs": [],
   "source": []
  }
 ],
 "metadata": {
  "kernelspec": {
   "display_name": "Python 3",
   "language": "python",
   "name": "python3"
  },
  "language_info": {
   "codemirror_mode": {
    "name": "ipython",
    "version": 3
   },
   "file_extension": ".py",
   "mimetype": "text/x-python",
   "name": "python",
   "nbconvert_exporter": "python",
   "pygments_lexer": "ipython3",
   "version": "3.7.1"
  }
 },
 "nbformat": 4,
 "nbformat_minor": 2
}
